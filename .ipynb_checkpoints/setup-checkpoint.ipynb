{
 "cells": [
  {
   "cell_type": "markdown",
   "id": "e7e94ceb-1853-4fe2-af9b-b6f3c97d437b",
   "metadata": {},
   "source": [
    "# Set up Environment\n",
    "\n",
    "- Install packages required\n",
    "- Configure project, region, bucket names\n",
    "- Mount GCS bucket\n",
    "- Save configuration file"
   ]
  },
  {
   "cell_type": "code",
   "execution_count": 1,
   "id": "23b2a8a6-2438-4f18-b4d6-7306cb815ce3",
   "metadata": {},
   "outputs": [],
   "source": [
    "import os\n",
    "import sys"
   ]
  },
  {
   "cell_type": "markdown",
   "id": "2e0c90e2-c7f4-48a5-98ed-d3bef39dcfa4",
   "metadata": {},
   "source": [
    "## Create Local Directory Structure"
   ]
  },
  {
   "cell_type": "code",
   "execution_count": 1,
   "id": "4df45671-2ceb-42d1-9dda-e46e622ae3b2",
   "metadata": {},
   "outputs": [],
   "source": [
    "! mkdir -p ./src/scripts\n",
    "! mkdir -p ./data\n",
    "! mkdir -p ./jars"
   ]
  },
  {
   "cell_type": "markdown",
   "id": "8d34dc99-514f-4c1d-80b6-a5ee4aee3470",
   "metadata": {
    "tags": []
   },
   "source": [
    "## Install required packages"
   ]
  },
  {
   "cell_type": "markdown",
   "id": "9e1c49d2-7543-4225-9c79-bb841efc627c",
   "metadata": {},
   "source": [
    "- [Google Earth Engine (GEE) API](https://developers.google.com/earth-engine/guides/python_install)\n",
    "- [geemap](https://geemap.org/installation/) for interactive mapping with GEE\n",
    "- [geobeam](https://github.com/GoogleCloudPlatform/dataflow-geobeam#1-install-the-module) to ingest and analyze massive amounts of geospatial data in parallel using Dataflow"
   ]
  },
  {
   "cell_type": "code",
   "execution_count": 14,
   "id": "2416f5db-8d7e-4490-a9b1-8c4823663f32",
   "metadata": {},
   "outputs": [],
   "source": [
    "install_packages = False"
   ]
  },
  {
   "cell_type": "code",
   "execution_count": 10,
   "id": "3016be5f-d938-4f11-926a-2a4ddcee0adf",
   "metadata": {},
   "outputs": [
    {
     "name": "stdout",
     "output_type": "stream",
     "text": [
      "Overwriting requirements.txt\n"
     ]
    }
   ],
   "source": [
    "%%writefile requirements.txt\n",
    "\n",
    "numpy==1.19.5\n",
    "pandas==1.3.5\n",
    "earthengine-api==0.1.300\n",
    "geemap==0.11.5\n",
    "geobeam==0.2.0\n",
    "# pyrasterframes\n",
    "# geopandas"
   ]
  },
  {
   "cell_type": "code",
   "execution_count": 17,
   "id": "9a489458-aeb3-4396-95d4-d7f0405d619a",
   "metadata": {},
   "outputs": [
    {
     "name": "stdout",
     "output_type": "stream",
     "text": [
      "No packages installed. Enable flag install_packages to install packages.\n"
     ]
    }
   ],
   "source": [
    "if install_packages == True:\n",
    "    ! pip install -r requirements.txt\n",
    "else:\n",
    "    print(\"No packages installed. Enable flag install_packages to install packages.\")"
   ]
  },
  {
   "cell_type": "markdown",
   "id": "42f1dfff-ddb6-4f12-a2a9-642489b9cc7a",
   "metadata": {},
   "source": [
    "**To enable interactive maps with `geemap`, enable leaflet extension**\n",
    "\n",
    "**NOTE:** Refresh browser for map to load"
   ]
  },
  {
   "cell_type": "code",
   "execution_count": 18,
   "id": "d1158982-3355-4c23-8124-12923d2f61f3",
   "metadata": {},
   "outputs": [],
   "source": [
    "if install_packages == True:\n",
    "    ! jupyter labextension install @jupyter-widgets/jupyterlab-manager jupyter-leaflet"
   ]
  },
  {
   "cell_type": "markdown",
   "id": "7f6d48ef-81c7-44d5-a57c-1291197f096f",
   "metadata": {},
   "source": [
    "### Restart the Kernel\n",
    "\n",
    "After you install the additional packages, you need to restart the notebook kernel so it can find the packages."
   ]
  },
  {
   "cell_type": "code",
   "execution_count": 19,
   "id": "00e540bd-f24c-41dc-930a-9447484d51f4",
   "metadata": {},
   "outputs": [],
   "source": [
    "# Automatically restart kernel after installs\n",
    "import os\n",
    "\n",
    "if not os.getenv(\"IS_TESTING\"):\n",
    "    # Automatically restart kernel after installs\n",
    "    import IPython\n",
    "\n",
    "    app = IPython.Application.instance()\n",
    "    app.kernel.do_shutdown(True)"
   ]
  },
  {
   "cell_type": "markdown",
   "id": "ff289450-19a3-4cfd-b85a-d6c4296c372b",
   "metadata": {},
   "source": [
    "## Set up your Google Cloud Resources"
   ]
  },
  {
   "cell_type": "markdown",
   "id": "8657aecd-f255-4cec-896b-50223b2a8532",
   "metadata": {},
   "source": [
    "### Enable Google Cloud APIs\n",
    "\n",
    "- Cloud Storage\n",
    "- Earth Engine\n",
    "- Dataflow\n",
    "- BigQuery\n",
    "- Vertex AI"
   ]
  },
  {
   "cell_type": "markdown",
   "id": "ca98ea7c-2fdd-464d-9b34-724f87bbd9c4",
   "metadata": {},
   "source": [
    "### Set your Project ID"
   ]
  },
  {
   "cell_type": "markdown",
   "id": "51bb0d90-8f00-429a-848e-229564af40fb",
   "metadata": {},
   "source": [
    "If you don't know your project ID, you may be able to get your project ID using `gcloud` or `google.auth`."
   ]
  },
  {
   "cell_type": "code",
   "execution_count": 7,
   "id": "af9ac7b3-1b12-4b1f-badf-c70ffa3c331b",
   "metadata": {},
   "outputs": [
    {
     "name": "stdout",
     "output_type": "stream",
     "text": [
      "Project ID:  rthallam-demo-project\n"
     ]
    }
   ],
   "source": [
    "PROJECT_ID = \"[your-project-id]\"  # <---CHANGE THIS TO YOUR PROJECT\n",
    "\n",
    "import os\n",
    "\n",
    "# Get your Google Cloud project ID using google.auth\n",
    "if not os.getenv(\"IS_TESTING\"):\n",
    "    import google.auth\n",
    "\n",
    "    _, PROJECT_ID = google.auth.default()\n",
    "    print(\"Project ID: \", PROJECT_ID)\n",
    "\n",
    "# validate PROJECT_ID\n",
    "if PROJECT_ID == \"\" or PROJECT_ID is None or PROJECT_ID == \"[your-project-id]\":\n",
    "    print(\n",
    "        f\"Please set your project id before proceeding to next step. Currently it's set as {PROJECT_ID}\"\n",
    "    )"
   ]
  },
  {
   "cell_type": "markdown",
   "id": "8c7636cc-956a-4c7a-8bb4-2920448cf251",
   "metadata": {},
   "source": [
    "### Timestamp"
   ]
  },
  {
   "cell_type": "markdown",
   "id": "9aa5c672-9cf0-4ec9-a0fb-570d05da418a",
   "metadata": {},
   "source": [
    "If you are in a live tutorial session, you might be using a shared test account or project. To avoid name collisions between users on resources created, you create a timestamp for each instance session, and append it onto the name of resources you create in this tutorial."
   ]
  },
  {
   "cell_type": "code",
   "execution_count": 9,
   "id": "508ef170-72b4-4aca-8f42-ad2d4e63bb0a",
   "metadata": {},
   "outputs": [
    {
     "name": "stdout",
     "output_type": "stream",
     "text": [
      "TIMESTAMP = 20220303013224\n"
     ]
    }
   ],
   "source": [
    "from datetime import datetime\n",
    "\n",
    "def get_timestamp():\n",
    "    return datetime.now().strftime(\"%Y%m%d%H%M%S\")\n",
    "\n",
    "TIMESTAMP = get_timestamp()\n",
    "print(f\"TIMESTAMP = {TIMESTAMP}\")"
   ]
  },
  {
   "cell_type": "markdown",
   "id": "7061af64-e0c6-49cc-baea-8c7d0f6316d7",
   "metadata": {},
   "source": [
    "### Create a Cloud Storage bucket"
   ]
  },
  {
   "cell_type": "code",
   "execution_count": 14,
   "id": "78a60d02-3e97-4171-aba0-59c4ebe38605",
   "metadata": {},
   "outputs": [],
   "source": [
    "BUCKET_NAME = \"[your-bucket-name]\"  # <---CHANGE THIS TO YOUR BUCKET\n",
    "REGION = \"us-central1\"  # @param {type:\"string\"}\n",
    "\n",
    "BUCKET_NAME = \"cloud-ai-platform-2f444b6a-a742-444b-b91a-c7519f51bd77\"  # <---CHANGE THIS TO YOUR BUCKET"
   ]
  },
  {
   "cell_type": "code",
   "execution_count": null,
   "id": "ac94fbf5-b12e-4f29-8f33-dc6d292b2d47",
   "metadata": {},
   "outputs": [],
   "source": [
    "if BUCKET_NAME == \"\" or BUCKET_NAME is None or BUCKET_NAME == \"[your-bucket-name]\":\n",
    "    BUCKET_NAME = f\"{PROJECT_ID}aip-{get_timestamp()}\""
   ]
  },
  {
   "cell_type": "code",
   "execution_count": 15,
   "id": "ae82e3ac-f730-4af7-8353-3262d84bd6be",
   "metadata": {},
   "outputs": [
    {
     "name": "stdout",
     "output_type": "stream",
     "text": [
      "PROJECT_ID = rthallam-demo-project\n",
      "BUCKET_NAME = cloud-ai-platform-2f444b6a-a742-444b-b91a-c7519f51bd77\n",
      "REGION = us-central1\n"
     ]
    }
   ],
   "source": [
    "print(f\"PROJECT_ID = {PROJECT_ID}\")\n",
    "print(f\"BUCKET_NAME = {BUCKET_NAME}\")\n",
    "print(f\"REGION = {REGION}\")"
   ]
  },
  {
   "cell_type": "code",
   "execution_count": 16,
   "id": "783c41db-3f39-4c75-8003-ea62f96fcad6",
   "metadata": {},
   "outputs": [],
   "source": [
    "os.environ[\"PROJECT_ID\"] = PROJECT_ID\n",
    "os.environ[\"BUCKET_NAME\"] = BUCKET_NAME\n",
    "os.environ[\"REGION\"] = REGION"
   ]
  },
  {
   "cell_type": "markdown",
   "id": "7c90ba74-a2ad-4a5a-88fa-3f2e2c875005",
   "metadata": {},
   "source": [
    "---\n",
    "\n",
    "**Only if your bucket doesn't already exist:** Run the following cell to create your Cloud Storage bucket.\n",
    "\n",
    "---"
   ]
  },
  {
   "cell_type": "code",
   "execution_count": null,
   "id": "b46cf554-2251-46d5-a90f-5f5f14b462a2",
   "metadata": {},
   "outputs": [],
   "source": [
    "! gsutil mb -l $REGION gs://$BUCKET_NAME"
   ]
  },
  {
   "cell_type": "markdown",
   "id": "79768b01-506e-4029-90c7-9b09596b077f",
   "metadata": {},
   "source": [
    "Finally, validate access to your Cloud Storage bucket by examining its contents:"
   ]
  },
  {
   "cell_type": "code",
   "execution_count": null,
   "id": "9e1ced84-2341-41eb-b7ec-86c777979b0c",
   "metadata": {},
   "outputs": [],
   "source": [
    "! gsutil ls -al gs://$BUCKET_NAME"
   ]
  },
  {
   "cell_type": "markdown",
   "id": "7c06ad5f-b4ba-4422-9141-fdc3536f6e44",
   "metadata": {},
   "source": [
    "### Mount GCS buckets\n",
    "\n",
    "Mount GCS buckets to a local folder for reading/writing files from/to GCS easily."
   ]
  },
  {
   "cell_type": "code",
   "execution_count": 2,
   "id": "2e9d982b-1fe4-4529-9122-2635e5e04fb8",
   "metadata": {},
   "outputs": [
    {
     "name": "stdout",
     "output_type": "stream",
     "text": [
      "Writing ./src/scripts/mount_gcs.sh\n"
     ]
    }
   ],
   "source": [
    "%%writefile ./src/scripts/mount_gcs.sh\n",
    "\n",
    "#!/bin/bash -eu\n",
    "\n",
    "source /opt/c2d/c2d-utils || exit 1\n",
    "\n",
    "function should_mount_gcs(){\n",
    "  # Mount GCS buckets locally.\n",
    "  local mount_gcs=true\n",
    "  JUPYTER_USER=$(get_jupyter_user)\n",
    "  mkdir -p \"/home/${JUPYTER_USER}\"/gcs\n",
    "  gcsfuse --implicit-dirs \"/home/${JUPYTER_USER}\"/gcs\n",
    "}\n",
    "\n",
    "shopt -s nocasematch\n",
    "should_mount_gcs\n",
    "echo $?\n",
    "shopt -u nocasematch"
   ]
  },
  {
   "cell_type": "markdown",
   "id": "0aa2a115-dfdb-46db-9e31-5488fea1cf6c",
   "metadata": {},
   "source": [
    "- Change permissions on the script to run"
   ]
  },
  {
   "cell_type": "code",
   "execution_count": 4,
   "id": "8178463f-b938-41be-9a5c-823571c89202",
   "metadata": {},
   "outputs": [],
   "source": [
    "! chmod 775 ./src/scripts/mount_gcs.sh "
   ]
  },
  {
   "cell_type": "markdown",
   "id": "a0c34d3b-ce07-453d-a1eb-ef806f525bfb",
   "metadata": {},
   "source": [
    "- Run script to mount GCS buckets"
   ]
  },
  {
   "cell_type": "code",
   "execution_count": 5,
   "id": "224ba7aa-57db-45c3-8fed-6913148c83d6",
   "metadata": {},
   "outputs": [
    {
     "name": "stdout",
     "output_type": "stream",
     "text": [
      "2022/03/03 01:29:58.237628 Start gcsfuse/0.40.0 (Go version go1.17.6) for app \"\" using mount point: /home/jupyter/gcs\n",
      "2022/03/03 01:29:58.253377 Opening GCS connection...\n",
      "2022/03/03 01:29:58.257285 Mounting file system \"gcsfuse\"...\n",
      "daemonize.Run: readFromProcess: sub-process: mountWithArgs: mountWithConn: Mount: mount: running /usr/bin/fusermount: exit status 1\n",
      "1\n",
      "0\n"
     ]
    }
   ],
   "source": [
    "! ./src/scripts/mount_gcs.sh  && echo $?"
   ]
  },
  {
   "cell_type": "markdown",
   "id": "cc6a8db8-a29a-43d6-8649-336eea7f241b",
   "metadata": {},
   "source": [
    "- Validate with the bucket created"
   ]
  },
  {
   "cell_type": "code",
   "execution_count": 24,
   "id": "cfc77207-e08a-4e42-a4e4-b3aa6aabc2ac",
   "metadata": {},
   "outputs": [],
   "source": [
    "os.environ[\"LOCAL_GCS_ROOT\"] = \"/home/jupyter/gcs\""
   ]
  },
  {
   "cell_type": "code",
   "execution_count": null,
   "id": "97b7c11d-049a-4195-958c-0922017a8479",
   "metadata": {},
   "outputs": [],
   "source": [
    "! ls -ls $LOCAL_GCS_ROOT/$BUCKET_NAME"
   ]
  }
 ],
 "metadata": {
  "environment": {
   "kernel": "python3",
   "name": "common-cpu.m87",
   "type": "gcloud",
   "uri": "gcr.io/deeplearning-platform-release/base-cpu:m87"
  },
  "kernelspec": {
   "display_name": "Python 3",
   "language": "python",
   "name": "python3"
  },
  "language_info": {
   "codemirror_mode": {
    "name": "ipython",
    "version": 3
   },
   "file_extension": ".py",
   "mimetype": "text/x-python",
   "name": "python",
   "nbconvert_exporter": "python",
   "pygments_lexer": "ipython3",
   "version": "3.7.12"
  }
 },
 "nbformat": 4,
 "nbformat_minor": 5
}
