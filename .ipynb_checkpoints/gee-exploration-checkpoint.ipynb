{
 "cells": [
  {
   "cell_type": "code",
   "execution_count": 1,
   "id": "83f56443-8cbf-41e2-8fd1-4a0780fa9a2e",
   "metadata": {},
   "outputs": [],
   "source": [
    "# core\n",
    "import datetime\n",
    "\n",
    "# earth engine related\n",
    "import ee\n",
    "import geemap\n",
    "\n",
    "# analysis\n",
    "import numpy as np\n",
    "import pandas as pd\n",
    "from pandas.tseries.offsets import MonthEnd\n",
    "\n",
    "# plotting related\n",
    "import matplotlib.pyplot as plt\n",
    "import matplotlib.dates as mdates\n",
    "from IPython.display import Image\n",
    "from matplotlib import dates\n",
    "import seaborn as sns\n",
    "\n",
    "# google cloud\n",
    "from google.cloud import bigquery as bq\n",
    "from google.cloud import storage as gcs"
   ]
  },
  {
   "cell_type": "code",
   "execution_count": 2,
   "id": "ea043a71-1c7c-456f-bf10-ab5c46a5aa2e",
   "metadata": {},
   "outputs": [],
   "source": [
    "ee.Initialize()"
   ]
  },
  {
   "cell_type": "code",
   "execution_count": null,
   "id": "2973f8f2-ce1f-4757-ad08-02722d2ac120",
   "metadata": {},
   "outputs": [],
   "source": []
  }
 ],
 "metadata": {
  "environment": {
   "kernel": "python3",
   "name": "common-cpu.m87",
   "type": "gcloud",
   "uri": "gcr.io/deeplearning-platform-release/base-cpu:m87"
  },
  "kernelspec": {
   "display_name": "Python 3",
   "language": "python",
   "name": "python3"
  },
  "language_info": {
   "codemirror_mode": {
    "name": "ipython",
    "version": 3
   },
   "file_extension": ".py",
   "mimetype": "text/x-python",
   "name": "python",
   "nbconvert_exporter": "python",
   "pygments_lexer": "ipython3",
   "version": "3.7.12"
  }
 },
 "nbformat": 4,
 "nbformat_minor": 5
}
