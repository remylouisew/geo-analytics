{
 "cells": [
  {
   "cell_type": "markdown",
   "id": "047125db-a934-4311-abcb-582c0fe8285a",
   "metadata": {},
   "source": [
    "# Cropland Analysis"
   ]
  },
  {
   "cell_type": "code",
   "execution_count": 4,
   "id": "259f92c8-4b98-4bf0-9302-9c6bdda9e400",
   "metadata": {},
   "outputs": [],
   "source": [
    "# core\n",
    "import datetime\n",
    "\n",
    "# earth engine related\n",
    "import ee\n",
    "import geemap\n",
    "\n",
    "# analysis\n",
    "import numpy as np\n",
    "import pandas as pd\n",
    "from pandas.tseries.offsets import MonthEnd\n",
    "\n",
    "# plotting related\n",
    "import matplotlib.pyplot as plt\n",
    "import matplotlib.dates as mdates\n",
    "from IPython.display import Image\n",
    "from matplotlib import dates\n",
    "import seaborn as sns\n",
    "\n",
    "# google cloud\n",
    "from google.cloud import bigquery as bq\n",
    "from google.cloud import storage as gcs\n",
    "\n"
   ]
  },
  {
   "cell_type": "code",
   "execution_count": 6,
   "id": "03d1f0b9-7c14-4ccb-b334-48c3a1251b65",
   "metadata": {},
   "outputs": [],
   "source": [
    "ee.Initialize()\n",
    "Map = geemap.Map(center=[40,-100], zoom=4)"
   ]
  },
  {
   "cell_type": "markdown",
   "id": "31b1dfd5-d30b-40d4-8180-c62b5e07b335",
   "metadata": {},
   "source": [
    "## View Cropland with Legend"
   ]
  },
  {
   "cell_type": "code",
   "execution_count": 9,
   "id": "ebdbaa35-15f1-4d75-8002-5715cf8be21d",
   "metadata": {},
   "outputs": [
    {
     "data": {
      "application/vnd.jupyter.widget-view+json": {
       "model_id": "28a18ec15c934fc99022352d4f67e00a",
       "version_major": 2,
       "version_minor": 0
      },
      "text/plain": [
       "Map(center=[40.71, -100.55], controls=(WidgetControl(options=['position', 'transparent_bg'], widget=HBox(child…"
      ]
     },
     "metadata": {},
     "output_type": "display_data"
    }
   ],
   "source": [
    "dataset = ee.ImageCollection('USDA/NASS/CDL').filter(ee.Filter.date('2018-01-01', '2019-12-31')).first()\n",
    "cropLandcover = dataset.select('cropland')\n",
    "Map.setCenter(-100.55, 40.71, 4);\n",
    "Map.addLayer(cropLandcover, {}, 'Crop Landcover')\n",
    "Map\n"
   ]
  },
  {
   "cell_type": "code",
   "execution_count": null,
   "id": "d623f43b-43f5-45e3-91ae-1da18228d059",
   "metadata": {},
   "outputs": [],
   "source": [
    "# Display a legend explaining the colors assigned to a MODIS land cover\n",
    "# classification image.\n",
    "//var BAND_NAME = 'Land_Cover_Type_1';\n",
    "\n",
    "//var image = ee.Image('MODIS/051/MCD12Q1/2001_01_01')\n",
    " //           .select(BAND_NAME);\n",
    "\n",
    "// Create the panel for the legend items.\n",
    "var legend = ui.Panel({\n",
    "  style: {\n",
    "    position: 'bottom-left',\n",
    "    padding: '8px 15px'\n",
    "  }\n",
    "});\n",
    "\n",
    "// Create and add the legend title.\n",
    "var legendTitle = ui.Label({\n",
    "  value: 'Crop Land Cover',\n",
    "  style: {\n",
    "    fontWeight: 'bold',\n",
    "    fontSize: '18px',\n",
    "    margin: '0 0 4px 0',\n",
    "    padding: '0'\n",
    "  }\n",
    "});\n",
    "legend.add(legendTitle);\n",
    "\n",
    "var loading = ui.Label('Loading legend...', {margin: '2px 0 4px 0'});\n",
    "legend.add(loading);\n",
    "\n",
    "// Creates and styles 1 row of the legend.\n",
    "var makeRow = function(color, name) {\n",
    "  // Create the label that is actually the colored box.\n",
    "  var colorBox = ui.Label({\n",
    "    style: {\n",
    "      backgroundColor: '#' + color,\n",
    "      // Use padding to give the box height and width.\n",
    "      padding: '8px',\n",
    "      margin: '0 0 4px 0'\n",
    "    }\n",
    "  });\n",
    "\n",
    "  // Create the label filled with the description text.\n",
    "  var description = ui.Label({\n",
    "    value: name,\n",
    "    style: {margin: '0 0 4px 6px'}\n",
    "  });\n",
    "\n",
    "  return ui.Panel({\n",
    "    widgets: [colorBox, description],\n",
    "    layout: ui.Panel.Layout.Flow('horizontal')\n",
    "  });\n",
    "};\n",
    "\n",
    "/*\n",
    "print(dataset.toDictionary().select([cropLandcover + \"cropland_class_palette\"]))\n",
    "\n",
    "print(dataset)\n",
    "\n",
    "var props = dataset.toDictionary();\n",
    "  \n",
    "  props.evaluate(function(props) {\n",
    "    info.setValue(\"PARK NAME: \" + props['cropland_class_names']);\n",
    "  });\n",
    "  */\n",
    "var BAND_NAME = \"cropland\"\n",
    "// Get the list of palette colors and class names from the image.\n",
    "cropLandcover.toDictionary().select([BAND_NAME + \".*\"]).evaluate(function(result) {\n",
    "  var palette = result[BAND_NAME + \"_class_palette\"];\n",
    "  var names = result[BAND_NAME + \"_class_names\"];\n",
    "  loading.style().set('shown', false);\n",
    "\n",
    "  for (var i = 0; i < names.length; i++) {\n",
    "    legend.add(makeRow(palette[i], names[i]));\n",
    "  }\n",
    "  //Map.addLayer(dataset, {min: 0, max: 17, palette: palette}, 'IGBP classification');\n",
    "});\n",
    "\n",
    "// Add the legend to the map.\n",
    "Map.setCenter(-113.41842, 40.055489, 6);\n",
    "Map.add(legend);"
   ]
  },
  {
   "cell_type": "markdown",
   "id": "72686ab3-2855-41f9-8146-28969a4b6522",
   "metadata": {},
   "source": [
    "## Export Cropland"
   ]
  },
  {
   "cell_type": "code",
   "execution_count": 10,
   "id": "92110530-4aa8-4d57-8986-11fba39d2417",
   "metadata": {},
   "outputs": [
    {
     "ename": "NameError",
     "evalue": "name 'Export' is not defined",
     "output_type": "error",
     "traceback": [
      "\u001b[0;31m---------------------------------------------------------------------------\u001b[0m",
      "\u001b[0;31mNameError\u001b[0m                                 Traceback (most recent call last)",
      "\u001b[0;32m/tmp/ipykernel_28384/2855936042.py\u001b[0m in \u001b[0;36m<module>\u001b[0;34m\u001b[0m\n\u001b[1;32m      1\u001b[0m \u001b[0mgeometry\u001b[0m \u001b[0;34m=\u001b[0m \u001b[0mee\u001b[0m\u001b[0;34m.\u001b[0m\u001b[0mGeometry\u001b[0m\u001b[0;34m.\u001b[0m\u001b[0mRectangle\u001b[0m\u001b[0;34m(\u001b[0m\u001b[0;34m[\u001b[0m\u001b[0;34m-\u001b[0m\u001b[0;36m125.03\u001b[0m\u001b[0;34m,\u001b[0m \u001b[0;36m24.76\u001b[0m\u001b[0;34m,\u001b[0m \u001b[0;34m-\u001b[0m\u001b[0;36m65.97\u001b[0m\u001b[0;34m,\u001b[0m \u001b[0;36m49.21\u001b[0m\u001b[0;34m]\u001b[0m\u001b[0;34m)\u001b[0m\u001b[0;34m\u001b[0m\u001b[0;34m\u001b[0m\u001b[0m\n\u001b[1;32m      2\u001b[0m \u001b[0;34m\u001b[0m\u001b[0m\n\u001b[0;32m----> 3\u001b[0;31m Export.image.toCloudStorage({\n\u001b[0m\u001b[1;32m      4\u001b[0m   \u001b[0mimage\u001b[0m\u001b[0;34m:\u001b[0m \u001b[0mcropLandcover\u001b[0m\u001b[0;34m,\u001b[0m\u001b[0;34m\u001b[0m\u001b[0;34m\u001b[0m\u001b[0m\n\u001b[1;32m      5\u001b[0m   \u001b[0mdescription\u001b[0m\u001b[0;34m:\u001b[0m \u001b[0;34m'croplandgeo30'\u001b[0m\u001b[0;34m,\u001b[0m\u001b[0;34m\u001b[0m\u001b[0;34m\u001b[0m\u001b[0m\n",
      "\u001b[0;31mNameError\u001b[0m: name 'Export' is not defined"
     ]
    }
   ],
   "source": [
    "geometry = ee.Geometry.Rectangle([-125.03, 24.76, -65.97, 49.21])\n",
    "\n",
    "Export.image.toCloudStorage({\n",
    "  image: cropLandcover,\n",
    "  description: 'croplandgeo30',\n",
    "  bucket: 'remy-data',\n",
    "  fileNamePrefix: 'croplandgeo30',\n",
    "  region:geometry\n",
    "});"
   ]
  },
  {
   "cell_type": "markdown",
   "id": "0a5ef478-ee9f-490a-8335-f39ecc7950f7",
   "metadata": {},
   "source": [
    "## Project Cropland for export and ingestion to BQ with Geobeam"
   ]
  },
  {
   "cell_type": "code",
   "execution_count": null,
   "id": "b45c08ac-4b4b-4abc-abd2-0739743d521d",
   "metadata": {},
   "outputs": [],
   "source": [
    "var dataset = ee.ImageCollection('USDA/NASS/CDL')\n",
    "                  .filter(ee.Filter.date('2018-01-01', '2019-12-31'))\n",
    "                  .first();\n",
    "var cropLandcover = dataset.select('cropland');\n",
    "Map.setCenter(-100.55, 40.71, 4);\n",
    "Map.addLayer(cropLandcover, {}, 'Crop Landcover');\n",
    "\n",
    "\n",
    "// Display a legend explaining the colors assigned to a MODIS land cover\n",
    "// classification image.\n",
    "//var BAND_NAME = 'Land_Cover_Type_1';\n",
    "\n",
    "//var image = ee.Image('MODIS/051/MCD12Q1/2001_01_01')\n",
    " //           .select(BAND_NAME);\n",
    "\n",
    "// Create the panel for the legend items.\n",
    "var legend = ui.Panel({\n",
    "  style: {\n",
    "    position: 'bottom-left',\n",
    "    padding: '8px 15px'\n",
    "  }\n",
    "});\n",
    "\n",
    "// Create and add the legend title.\n",
    "var legendTitle = ui.Label({\n",
    "  value: 'Crop Land Cover',\n",
    "  style: {\n",
    "    fontWeight: 'bold',\n",
    "    fontSize: '18px',\n",
    "    margin: '0 0 4px 0',\n",
    "    padding: '0'\n",
    "  }\n",
    "});\n",
    "legend.add(legendTitle);\n",
    "\n",
    "var loading = ui.Label('Loading legend...', {margin: '2px 0 4px 0'});\n",
    "legend.add(loading);\n",
    "\n",
    "// Creates and styles 1 row of the legend.\n",
    "var makeRow = function(color, name) {\n",
    "  // Create the label that is actually the colored box.\n",
    "  var colorBox = ui.Label({\n",
    "    style: {\n",
    "      backgroundColor: '#' + color,\n",
    "      // Use padding to give the box height and width.\n",
    "      padding: '8px',\n",
    "      margin: '0 0 4px 0'\n",
    "    }\n",
    "  });\n",
    "\n",
    "  // Create the label filled with the description text.\n",
    "  var description = ui.Label({\n",
    "    value: name,\n",
    "    style: {margin: '0 0 4px 6px'}\n",
    "  });\n",
    "\n",
    "  return ui.Panel({\n",
    "    widgets: [colorBox, description],\n",
    "    layout: ui.Panel.Layout.Flow('horizontal')\n",
    "  });\n",
    "};\n",
    "\n",
    "/*\n",
    "print(dataset.toDictionary().select([cropLandcover + \"cropland_class_palette\"]))\n",
    "\n",
    "print(dataset)\n",
    "\n",
    "var props = dataset.toDictionary();\n",
    "  \n",
    "  props.evaluate(function(props) {\n",
    "    info.setValue(\"PARK NAME: \" + props['cropland_class_names']);\n",
    "  });\n",
    "  */\n",
    "var BAND_NAME = \"cropland\"\n",
    "// Get the list of palette colors and class names from the image.\n",
    "cropLandcover.toDictionary().select([BAND_NAME + \".*\"]).evaluate(function(result) {\n",
    "  var palette = result[BAND_NAME + \"_class_palette\"];\n",
    "  var names = result[BAND_NAME + \"_class_names\"];\n",
    "  loading.style().set('shown', false);\n",
    "\n",
    "  for (var i = 0; i < names.length; i++) {\n",
    "    legend.add(makeRow(palette[i], names[i]));\n",
    "  }\n",
    "  //Map.addLayer(dataset, {min: 0, max: 17, palette: palette}, 'IGBP classification');\n",
    "});\n",
    "\n",
    "// Add the legend to the map.\n",
    "Map.setCenter(-113.41842, 40.055489, 6);\n",
    "Map.add(legend);\n",
    "\n"
   ]
  }
 ],
 "metadata": {
  "environment": {
   "kernel": "python3",
   "name": "common-cpu.m87",
   "type": "gcloud",
   "uri": "gcr.io/deeplearning-platform-release/base-cpu:m87"
  },
  "kernelspec": {
   "display_name": "Python 3",
   "language": "python",
   "name": "python3"
  },
  "language_info": {
   "codemirror_mode": {
    "name": "ipython",
    "version": 3
   },
   "file_extension": ".py",
   "mimetype": "text/x-python",
   "name": "python",
   "nbconvert_exporter": "python",
   "pygments_lexer": "ipython3",
   "version": "3.7.12"
  }
 },
 "nbformat": 4,
 "nbformat_minor": 5
}
