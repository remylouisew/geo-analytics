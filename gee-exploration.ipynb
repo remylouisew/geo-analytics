{
 "cells": [
  {
   "cell_type": "code",
   "execution_count": 19,
   "id": "83f56443-8cbf-41e2-8fd1-4a0780fa9a2e",
   "metadata": {},
   "outputs": [],
   "source": [
    "# core\n",
    "import datetime\n",
    "\n",
    "# earth engine related\n",
    "import ee\n",
    "import geemap\n",
    "\n",
    "# analysis\n",
    "import numpy as np\n",
    "import pandas as pd\n",
    "from pandas.tseries.offsets import MonthEnd\n",
    "\n",
    "# plotting related\n",
    "import matplotlib.pyplot as plt\n",
    "import matplotlib.dates as mdates\n",
    "from IPython.display import Image\n",
    "from matplotlib import dates\n",
    "import seaborn as sns\n",
    "\n",
    "# google cloud\n",
    "from google.cloud import bigquery as bq\n",
    "from google.cloud import storage as gcs"
   ]
  },
  {
   "cell_type": "code",
   "execution_count": 20,
   "id": "ea043a71-1c7c-456f-bf10-ab5c46a5aa2e",
   "metadata": {},
   "outputs": [],
   "source": [
    "ee.Initialize()"
   ]
  },
  {
   "cell_type": "markdown",
   "id": "b7195620-c98b-4c55-b8f3-cf94d011ae76",
   "metadata": {},
   "source": [
    "## Sentinel 2 export attempts"
   ]
  },
  {
   "cell_type": "code",
   "execution_count": 10,
   "id": "e77022e9-8b7b-4931-a799-ea0d7806e35e",
   "metadata": {},
   "outputs": [],
   "source": [
    "kansas = ee.Geometry.Rectangle([-102, 40, -95, 37.5])\n",
    "\n",
    "collection = ee.ImageCollection('COPERNICUS/S2').filterBounds(kansas)\\\n",
    ".filterDate('2018-04-01', '2018-06-30')\\\n",
    ".filter(ee.Filter.lt('CLOUDY_PIXEL_PERCENTAGE', 20)) #Pre-filter to get less cloudy granules\n",
    "\n",
    "sentinel = collection.median()\n"
   ]
  },
  {
   "cell_type": "code",
   "execution_count": 14,
   "id": "eb6a301e-27cb-4355-a311-20d49eb271e9",
   "metadata": {},
   "outputs": [
    {
     "name": "stdout",
     "output_type": "stream",
     "text": [
      "{'type': 'Projection', 'crs': 'EPSG:4326', 'transform': [1, 0, 0, 0, 1, 0]}\n"
     ]
    }
   ],
   "source": [
    "projection = sentinel.projection().getInfo();\n",
    "print(projection)\n"
   ]
  },
  {
   "cell_type": "code",
   "execution_count": 17,
   "id": "af038c64-d5fb-4f87-8f63-1c767a2fd5ca",
   "metadata": {},
   "outputs": [],
   "source": [
    "sentfeature = sentinel.geometry().coveringGrid(projection['crs'])"
   ]
  },
  {
   "cell_type": "code",
   "execution_count": null,
   "id": "d15c8048-67fb-478f-bb5e-aa30008521f0",
   "metadata": {},
   "outputs": [],
   "source": [
    "sent = map(sentfeature.reduceRegions(sentfeature))"
   ]
  },
  {
   "cell_type": "code",
   "execution_count": null,
   "id": "cbbe19b8-c265-4e40-aba5-8270b847dabf",
   "metadata": {},
   "outputs": [],
   "source": [
    "var reduced = sentfeature.map(function(feature){\n",
    "  return feature.reduceRegions({\n",
    "    collection:cmdArea , \n",
    "    reducer:ee.Reducer.mean(), \n",
    "    scale: 30\n",
    "  });\n",
    "});"
   ]
  },
  {
   "cell_type": "code",
   "execution_count": null,
   "id": "24d06e9e-b0a4-4397-9e25-ef8574803545",
   "metadata": {},
   "outputs": [],
   "source": [
    "### "
   ]
  }
 ],
 "metadata": {
  "environment": {
   "kernel": "python3",
   "name": "common-cpu.m87",
   "type": "gcloud",
   "uri": "gcr.io/deeplearning-platform-release/base-cpu:m87"
  },
  "kernelspec": {
   "display_name": "Python 3",
   "language": "python",
   "name": "python3"
  },
  "language_info": {
   "codemirror_mode": {
    "name": "ipython",
    "version": 3
   },
   "file_extension": ".py",
   "mimetype": "text/x-python",
   "name": "python",
   "nbconvert_exporter": "python",
   "pygments_lexer": "ipython3",
   "version": "3.7.12"
  }
 },
 "nbformat": 4,
 "nbformat_minor": 5
}
